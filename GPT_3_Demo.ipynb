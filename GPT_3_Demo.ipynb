{
  "cells": [
    {
      "cell_type": "code",
      "execution_count": 1,
      "metadata": {
        "colab": {
          "base_uri": "https://localhost:8080/"
        },
        "id": "heIf5_ducY8T",
        "outputId": "0880c905-829f-482d-d8a5-50056c7f32f4"
      },
      "outputs": [
        {
          "output_type": "stream",
          "name": "stdout",
          "text": [
            "Looking in indexes: https://pypi.org/simple, https://us-python.pkg.dev/colab-wheels/public/simple/\n",
            "Collecting openai\n",
            "  Downloading openai-0.25.0.tar.gz (44 kB)\n",
            "\u001b[K     |████████████████████████████████| 44 kB 2.3 MB/s \n",
            "\u001b[?25h  Installing build dependencies ... \u001b[?25l\u001b[?25hdone\n",
            "  Getting requirements to build wheel ... \u001b[?25l\u001b[?25hdone\n",
            "    Preparing wheel metadata ... \u001b[?25l\u001b[?25hdone\n",
            "Requirement already satisfied: typing-extensions in /usr/local/lib/python3.8/dist-packages (from openai) (4.4.0)\n",
            "Requirement already satisfied: pandas>=1.2.3 in /usr/local/lib/python3.8/dist-packages (from openai) (1.3.5)\n",
            "Collecting pandas-stubs>=1.1.0.11\n",
            "  Downloading pandas_stubs-1.5.2.221213-py3-none-any.whl (147 kB)\n",
            "\u001b[K     |████████████████████████████████| 147 kB 73.5 MB/s \n",
            "\u001b[?25hRequirement already satisfied: numpy in /usr/local/lib/python3.8/dist-packages (from openai) (1.21.6)\n",
            "Requirement already satisfied: tqdm in /usr/local/lib/python3.8/dist-packages (from openai) (4.64.1)\n",
            "Requirement already satisfied: requests>=2.20 in /usr/local/lib/python3.8/dist-packages (from openai) (2.23.0)\n",
            "Requirement already satisfied: openpyxl>=3.0.7 in /usr/local/lib/python3.8/dist-packages (from openai) (3.0.10)\n",
            "Requirement already satisfied: et-xmlfile in /usr/local/lib/python3.8/dist-packages (from openpyxl>=3.0.7->openai) (1.1.0)\n",
            "Requirement already satisfied: python-dateutil>=2.7.3 in /usr/local/lib/python3.8/dist-packages (from pandas>=1.2.3->openai) (2.8.2)\n",
            "Requirement already satisfied: pytz>=2017.3 in /usr/local/lib/python3.8/dist-packages (from pandas>=1.2.3->openai) (2022.6)\n",
            "Collecting types-pytz>=2022.1.1\n",
            "  Downloading types_pytz-2022.7.0.0-py3-none-any.whl (4.7 kB)\n",
            "Requirement already satisfied: six>=1.5 in /usr/local/lib/python3.8/dist-packages (from python-dateutil>=2.7.3->pandas>=1.2.3->openai) (1.15.0)\n",
            "Requirement already satisfied: certifi>=2017.4.17 in /usr/local/lib/python3.8/dist-packages (from requests>=2.20->openai) (2022.12.7)\n",
            "Requirement already satisfied: chardet<4,>=3.0.2 in /usr/local/lib/python3.8/dist-packages (from requests>=2.20->openai) (3.0.4)\n",
            "Requirement already satisfied: idna<3,>=2.5 in /usr/local/lib/python3.8/dist-packages (from requests>=2.20->openai) (2.10)\n",
            "Requirement already satisfied: urllib3!=1.25.0,!=1.25.1,<1.26,>=1.21.1 in /usr/local/lib/python3.8/dist-packages (from requests>=2.20->openai) (1.24.3)\n",
            "Building wheels for collected packages: openai\n",
            "  Building wheel for openai (PEP 517) ... \u001b[?25l\u001b[?25hdone\n",
            "  Created wheel for openai: filename=openai-0.25.0-py3-none-any.whl size=55880 sha256=c4b7589b7267e2d358d5b997d13b64db5f61e25f52fd471e2002e8e65a23905f\n",
            "  Stored in directory: /root/.cache/pip/wheels/4b/92/33/6f57c7aae0b16875267999a50570e81f15eecec577ebe05a2e\n",
            "Successfully built openai\n",
            "Installing collected packages: types-pytz, pandas-stubs, openai\n",
            "Successfully installed openai-0.25.0 pandas-stubs-1.5.2.221213 types-pytz-2022.7.0.0\n"
          ]
        }
      ],
      "source": [
        "!pip install openai"
      ]
    },
    {
      "cell_type": "code",
      "execution_count": 31,
      "metadata": {
        "id": "JIObOT-ybumY"
      },
      "outputs": [],
      "source": [
        "import json\n",
        "import openai"
      ]
    },
    {
      "cell_type": "code",
      "execution_count": 32,
      "metadata": {
        "id": "m42z9jQxqA2b"
      },
      "outputs": [],
      "source": [
        "with open('GPT_SECRET_KEY.json') as f:\n",
        "    data = json.load(f)"
      ]
    },
    {
      "cell_type": "code",
      "execution_count": 33,
      "metadata": {
        "id": "75Yg2gB7p3Q0"
      },
      "outputs": [],
      "source": [
        "openai.api_key = data[\"API_KEY\"]"
      ]
    },
    {
      "cell_type": "code",
      "execution_count": 34,
      "metadata": {
        "id": "N3sAHxJrhBzK"
      },
      "outputs": [],
      "source": [
        "from gpt import GPT\n",
        "from gpt import Example"
      ]
    },
    {
      "cell_type": "code",
      "execution_count": 35,
      "metadata": {
        "id": "XiV0D9PihB2N"
      },
      "outputs": [],
      "source": [
        "gpt = GPT(engine=\"davinci\",\n",
        "          temperature=0.5,\n",
        "          max_tokens=100)"
      ]
    },
    {
      "cell_type": "markdown",
      "metadata": {
        "id": "WwVcHYMOvGiU"
      },
      "source": [
        "# Adding Examples for GPT Model"
      ]
    },
    {
      "cell_type": "code",
      "execution_count": 36,
      "metadata": {
        "id": "0iLR1Y6YqTh7"
      },
      "outputs": [],
      "source": [
        "gpt.add_example(Example('Fetch unique values of DEPARTMENT from Worker table.', \n",
        "                        'Select distinct DEPARTMENT from Worker;'))"
      ]
    },
    {
      "cell_type": "code",
      "execution_count": 37,
      "metadata": {
        "id": "x28YlU1-qrCW"
      },
      "outputs": [],
      "source": [
        "gpt.add_example(Example('Print the first three characters of FIRST_NAME from Worker table.', \n",
        "                        'Select substring(FIRST_NAME,1,3) from Worker;'))"
      ]
    },
    {
      "cell_type": "code",
      "execution_count": 38,
      "metadata": {
        "id": "1C10LyYPqrFX"
      },
      "outputs": [],
      "source": [
        "gpt.add_example(Example(\"Find the position of the alphabet ('a') in the first name column 'Amitabh' from Worker table.\", \n",
        "                        \"Select INSTR(FIRST_NAME, BINARY'a') from Worker where FIRST_NAME = 'Amitabh';\"))"
      ]
    },
    {
      "cell_type": "code",
      "execution_count": 39,
      "metadata": {
        "id": "0JvjODWbsBWP"
      },
      "outputs": [],
      "source": [
        "gpt.add_example(Example(\"Print the FIRST_NAME from Worker table after replacing 'a' with 'A'.\", \n",
        "                        \"Select CONCAT(FIRST_NAME, ' ', LAST_NAME) AS 'COMPLETE_NAME' from Worker;\"))"
      ]
    },
    {
      "cell_type": "code",
      "execution_count": 40,
      "metadata": {
        "id": "uNsH4OeqsKjM"
      },
      "outputs": [],
      "source": [
        "gpt.add_example(Example(\"Display the second highest salary from the Worker table.\", \n",
        "                        \"Select max(Salary) from Worker where Salary not in (Select max(Salary) from Worker);\"))"
      ]
    },
    {
      "cell_type": "code",
      "execution_count": 41,
      "metadata": {
        "id": "zhXh5g-jsKnl"
      },
      "outputs": [],
      "source": [
        "gpt.add_example(Example(\"Display the highest salary from the Worker table.\", \n",
        "                        \"Select max(Salary) from Worker;\"))"
      ]
    },
    {
      "cell_type": "code",
      "execution_count": 42,
      "metadata": {
        "id": "wWjmZe-Ntexm"
      },
      "outputs": [],
      "source": [
        "gpt.add_example(Example(\"Fetch the count of employees working in the department Admin.\", \n",
        "                        \"SELECT COUNT(*) FROM worker WHERE DEPARTMENT = 'Admin';\"))"
      ]
    },
    {
      "cell_type": "code",
      "execution_count": 43,
      "metadata": {
        "id": "Q9xuF--Kt_xh"
      },
      "outputs": [],
      "source": [
        "gpt.add_example(Example(\"Get all details of the Workers whose SALARY lies between 100000 and 500000.\", \n",
        "                        \"Select * from Worker where SALARY between 100000 and 500000;\"))"
      ]
    },
    {
      "cell_type": "code",
      "execution_count": 44,
      "metadata": {
        "id": "z5jRwDCcuauE"
      },
      "outputs": [],
      "source": [
        "gpt.add_example(Example(\"Get Salary details of the Workers\", \n",
        "                        \"Select Salary from Worker\"))"
      ]
    },
    {
      "cell_type": "markdown",
      "metadata": {
        "id": "3mI7FmwSu9AA"
      },
      "source": [
        "# Example 1"
      ]
    },
    {
      "cell_type": "code",
      "execution_count": 45,
      "metadata": {
        "id": "sWSmXABfrdTm"
      },
      "outputs": [],
      "source": [
        "prompt = \"Display the lowest salary from the Worker table.\""
      ]
    },
    {
      "cell_type": "code",
      "execution_count": 46,
      "metadata": {
        "id": "pVzvJtmRqTku"
      },
      "outputs": [],
      "source": [
        "output = gpt.submit_request(prompt)"
      ]
    },
    {
      "cell_type": "code",
      "execution_count": 47,
      "metadata": {
        "colab": {
          "base_uri": "https://localhost:8080/",
          "height": 35
        },
        "id": "niqyIPAyoLQb",
        "outputId": "a45b8fd5-a28b-4240-f11b-1ee5347b1d08"
      },
      "outputs": [
        {
          "output_type": "execute_result",
          "data": {
            "text/plain": [
              "'output: Select min(Salary) from Worker;\\n'"
            ],
            "application/vnd.google.colaboratory.intrinsic+json": {
              "type": "string"
            }
          },
          "metadata": {},
          "execution_count": 47
        }
      ],
      "source": [
        "output.choices[0].text"
      ]
    },
    {
      "cell_type": "markdown",
      "metadata": {
        "id": "LA3DyhGJu_8o"
      },
      "source": [
        "# Example 2"
      ]
    },
    {
      "cell_type": "code",
      "execution_count": 48,
      "metadata": {
        "id": "_OdI6bFLtpel"
      },
      "outputs": [],
      "source": [
        "prompt = \"Tell me the count of employees working in the department HR.\""
      ]
    },
    {
      "cell_type": "code",
      "execution_count": 49,
      "metadata": {
        "id": "XnjQ0kfbtpkE"
      },
      "outputs": [],
      "source": [
        "output = gpt.submit_request(prompt)"
      ]
    },
    {
      "cell_type": "code",
      "execution_count": 50,
      "metadata": {
        "colab": {
          "base_uri": "https://localhost:8080/",
          "height": 35
        },
        "id": "Z9Yo-bZotph4",
        "outputId": "73a8e0d6-f654-44fb-aae2-b4b7ad3e4b99"
      },
      "outputs": [
        {
          "output_type": "execute_result",
          "data": {
            "text/plain": [
              "\"output: SELECT COUNT(*) FROM worker WHERE DEPARTMENT = 'HR';\\n\""
            ],
            "application/vnd.google.colaboratory.intrinsic+json": {
              "type": "string"
            }
          },
          "metadata": {},
          "execution_count": 50
        }
      ],
      "source": [
        "output.choices[0].text"
      ]
    },
    {
      "cell_type": "markdown",
      "metadata": {
        "id": "dnB7TCA_vCkF"
      },
      "source": [
        "# Example 3"
      ]
    },
    {
      "cell_type": "code",
      "execution_count": 51,
      "metadata": {
        "id": "GkaHZLIzt3pQ"
      },
      "outputs": [],
      "source": [
        "prompt = \"Get salary details of the Workers whose AGE lies between 25 and 35\""
      ]
    },
    {
      "cell_type": "code",
      "execution_count": 52,
      "metadata": {
        "colab": {
          "base_uri": "https://localhost:8080/"
        },
        "id": "G6GmvbukmLCK",
        "outputId": "c48fcefc-7502-4f2d-873b-083346055470"
      },
      "outputs": [
        {
          "output_type": "stream",
          "name": "stdout",
          "text": [
            "output: Select * from Worker where AGE between 25 and 35;\n",
            "\n"
          ]
        }
      ],
      "source": [
        "print(gpt.get_top_reply(prompt))"
      ]
    },
    {
      "cell_type": "code",
      "source": [
        "prompt = \"Get average of AGE of 2022 in NewYork on 21st August\""
      ],
      "metadata": {
        "id": "axEhmkuH1KUg"
      },
      "execution_count": 53,
      "outputs": []
    },
    {
      "cell_type": "code",
      "source": [
        "print(gpt.get_top_reply(prompt))"
      ],
      "metadata": {
        "colab": {
          "base_uri": "https://localhost:8080/"
        },
        "id": "3_y5qlk51ZOu",
        "outputId": "bfcfb06f-c15f-4193-dde8-ccde176e1e22"
      },
      "execution_count": 54,
      "outputs": [
        {
          "output_type": "stream",
          "name": "stdout",
          "text": [
            "output: Select AVG(AGE) FROM NewYork WHERE DATE='21-Aug-2022';\n",
            "\n"
          ]
        }
      ]
    },
    {
      "cell_type": "markdown",
      "source": [
        "## Function"
      ],
      "metadata": {
        "id": "bT2rK3Oq0Utk"
      }
    },
    {
      "cell_type": "code",
      "source": [
        "def Q_and_A():\n",
        "  prompt = input(\"Enter the Querry: \")\n",
        "  print(gpt.get_top_reply(prompt))"
      ],
      "metadata": {
        "id": "VrIY9x0g1b9s"
      },
      "execution_count": 55,
      "outputs": []
    },
    {
      "cell_type": "code",
      "source": [
        "Q_and_A()"
      ],
      "metadata": {
        "colab": {
          "base_uri": "https://localhost:8080/"
        },
        "id": "RpS8VHfz0ZDq",
        "outputId": "3e96b58c-93e5-4d1d-cf14-db976643e9ad"
      },
      "execution_count": 57,
      "outputs": [
        {
          "output_type": "stream",
          "name": "stdout",
          "text": [
            "Enter the Querry: Get average of AGE of 2022 in NewYork on 21st August\n",
            "output: Select AVG(AGE) from Worker where DATE_OF_BIRTH = '2022-08-21' and LOCATION = 'NewYork';\n",
            "\n"
          ]
        }
      ]
    },
    {
      "cell_type": "code",
      "source": [],
      "metadata": {
        "id": "Zu6eDpnu0a1J"
      },
      "execution_count": null,
      "outputs": []
    }
  ],
  "metadata": {
    "colab": {
      "provenance": []
    },
    "kernelspec": {
      "display_name": "Python 3.10.7 64-bit",
      "language": "python",
      "name": "python3"
    },
    "language_info": {
      "codemirror_mode": {
        "name": "ipython",
        "version": 3
      },
      "file_extension": ".py",
      "mimetype": "text/x-python",
      "name": "python",
      "nbconvert_exporter": "python",
      "pygments_lexer": "ipython3",
      "version": "3.10.7"
    },
    "vscode": {
      "interpreter": {
        "hash": "c1f682f24181e02bec5294285fb1c175cb07785bd2390f987c80770a76d37385"
      }
    }
  },
  "nbformat": 4,
  "nbformat_minor": 0
}