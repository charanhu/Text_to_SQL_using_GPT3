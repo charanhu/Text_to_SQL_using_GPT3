{
  "cells": [
    {
      "cell_type": "code",
      "execution_count": 1,
      "metadata": {
        "colab": {
          "base_uri": "https://localhost:8080/",
          "height": 297
        },
        "id": "heIf5_ducY8T",
        "outputId": "c668882d-1977-4c74-bdd5-584d27bd82f3"
      },
      "outputs": [
        {
          "name": "stdout",
          "output_type": "stream",
          "text": [
            "Requirement already satisfied: openai in c:\\users\\ei12753\\appdata\\local\\programs\\python\\python310\\lib\\site-packages (0.25.0)\n",
            "Requirement already satisfied: numpy in c:\\users\\ei12753\\appdata\\local\\programs\\python\\python310\\lib\\site-packages (from openai) (1.23.4)\n",
            "Requirement already satisfied: pandas>=1.2.3 in c:\\users\\ei12753\\appdata\\local\\programs\\python\\python310\\lib\\site-packages (from openai) (1.5.1)\n",
            "Requirement already satisfied: tqdm in c:\\users\\ei12753\\appdata\\local\\programs\\python\\python310\\lib\\site-packages (from openai) (4.64.1)\n",
            "Requirement already satisfied: openpyxl>=3.0.7 in c:\\users\\ei12753\\appdata\\local\\programs\\python\\python310\\lib\\site-packages (from openai) (3.0.10)\n",
            "Requirement already satisfied: pandas-stubs>=1.1.0.11 in c:\\users\\ei12753\\appdata\\local\\programs\\python\\python310\\lib\\site-packages (from openai) (1.5.2.221124)\n",
            "Requirement already satisfied: requests>=2.20 in c:\\users\\ei12753\\appdata\\local\\programs\\python\\python310\\lib\\site-packages (from openai) (2.28.1)\n",
            "Requirement already satisfied: typing-extensions in c:\\users\\ei12753\\appdata\\local\\programs\\python\\python310\\lib\\site-packages (from openai) (4.4.0)\n",
            "Requirement already satisfied: et-xmlfile in c:\\users\\ei12753\\appdata\\local\\programs\\python\\python310\\lib\\site-packages (from openpyxl>=3.0.7->openai) (1.1.0)\n",
            "Requirement already satisfied: python-dateutil>=2.8.1 in c:\\users\\ei12753\\appdata\\roaming\\python\\python310\\site-packages (from pandas>=1.2.3->openai) (2.8.2)\n",
            "Requirement already satisfied: pytz>=2020.1 in c:\\users\\ei12753\\appdata\\local\\programs\\python\\python310\\lib\\site-packages (from pandas>=1.2.3->openai) (2022.5)\n",
            "Requirement already satisfied: types-pytz>=2022.1.1 in c:\\users\\ei12753\\appdata\\local\\programs\\python\\python310\\lib\\site-packages (from pandas-stubs>=1.1.0.11->openai) (2022.6.0.1)\n",
            "Requirement already satisfied: charset-normalizer<3,>=2 in c:\\users\\ei12753\\appdata\\local\\programs\\python\\python310\\lib\\site-packages (from requests>=2.20->openai) (2.1.1)\n",
            "Requirement already satisfied: certifi>=2017.4.17 in c:\\users\\ei12753\\appdata\\local\\programs\\python\\python310\\lib\\site-packages (from requests>=2.20->openai) (2022.9.24)\n",
            "Requirement already satisfied: idna<4,>=2.5 in c:\\users\\ei12753\\appdata\\local\\programs\\python\\python310\\lib\\site-packages (from requests>=2.20->openai) (3.4)\n",
            "Requirement already satisfied: urllib3<1.27,>=1.21.1 in c:\\users\\ei12753\\appdata\\local\\programs\\python\\python310\\lib\\site-packages (from requests>=2.20->openai) (1.26.12)\n",
            "Requirement already satisfied: colorama in c:\\users\\ei12753\\appdata\\roaming\\python\\python310\\site-packages (from tqdm->openai) (0.4.5)\n",
            "Requirement already satisfied: six>=1.5 in c:\\users\\ei12753\\appdata\\roaming\\python\\python310\\site-packages (from python-dateutil>=2.8.1->pandas>=1.2.3->openai) (1.16.0)\n"
          ]
        },
        {
          "name": "stderr",
          "output_type": "stream",
          "text": [
            "\n",
            "[notice] A new release of pip available: 22.2.2 -> 22.3.1\n",
            "[notice] To update, run: python.exe -m pip install --upgrade pip\n"
          ]
        }
      ],
      "source": [
        "!pip install openai"
      ]
    },
    {
      "cell_type": "code",
      "execution_count": 2,
      "metadata": {
        "id": "JIObOT-ybumY"
      },
      "outputs": [],
      "source": [
        "import json\n",
        "import openai"
      ]
    },
    {
      "cell_type": "code",
      "execution_count": 3,
      "metadata": {
        "id": "m42z9jQxqA2b"
      },
      "outputs": [],
      "source": [
        "with open('GPT_SECRET_KEY.json') as f:\n",
        "    data = json.load(f)"
      ]
    },
    {
      "cell_type": "code",
      "execution_count": 4,
      "metadata": {
        "id": "75Yg2gB7p3Q0"
      },
      "outputs": [],
      "source": [
        "openai.api_key = data[\"API_KEY\"]"
      ]
    },
    {
      "cell_type": "code",
      "execution_count": 5,
      "metadata": {
        "id": "N3sAHxJrhBzK"
      },
      "outputs": [],
      "source": [
        "from gpt import GPT\n",
        "from gpt import Example"
      ]
    },
    {
      "cell_type": "code",
      "execution_count": 6,
      "metadata": {
        "id": "XiV0D9PihB2N"
      },
      "outputs": [],
      "source": [
        "gpt = GPT(engine=\"davinci\",\n",
        "          temperature=0.5,\n",
        "          max_tokens=100)"
      ]
    },
    {
      "cell_type": "markdown",
      "metadata": {
        "id": "WwVcHYMOvGiU"
      },
      "source": [
        "# Adding Examples for GPT Model"
      ]
    },
    {
      "cell_type": "code",
      "execution_count": 7,
      "metadata": {
        "id": "0iLR1Y6YqTh7"
      },
      "outputs": [],
      "source": [
        "gpt.add_example(Example('Fetch unique values of DEPARTMENT from Worker table.', \n",
        "                        'Select distinct DEPARTMENT from Worker;'))"
      ]
    },
    {
      "cell_type": "code",
      "execution_count": 8,
      "metadata": {
        "id": "x28YlU1-qrCW"
      },
      "outputs": [],
      "source": [
        "gpt.add_example(Example('Print the first three characters of FIRST_NAME from Worker table.', \n",
        "                        'Select substring(FIRST_NAME,1,3) from Worker;'))"
      ]
    },
    {
      "cell_type": "code",
      "execution_count": 9,
      "metadata": {
        "id": "1C10LyYPqrFX"
      },
      "outputs": [],
      "source": [
        "gpt.add_example(Example(\"Find the position of the alphabet ('a') in the first name column 'Amitabh' from Worker table.\", \n",
        "                        \"Select INSTR(FIRST_NAME, BINARY'a') from Worker where FIRST_NAME = 'Amitabh';\"))"
      ]
    },
    {
      "cell_type": "code",
      "execution_count": 10,
      "metadata": {
        "id": "0JvjODWbsBWP"
      },
      "outputs": [],
      "source": [
        "gpt.add_example(Example(\"Print the FIRST_NAME from Worker table after replacing 'a' with 'A'.\", \n",
        "                        \"Select CONCAT(FIRST_NAME, ' ', LAST_NAME) AS 'COMPLETE_NAME' from Worker;\"))"
      ]
    },
    {
      "cell_type": "code",
      "execution_count": 11,
      "metadata": {
        "id": "uNsH4OeqsKjM"
      },
      "outputs": [],
      "source": [
        "gpt.add_example(Example(\"Display the second highest salary from the Worker table.\", \n",
        "                        \"Select max(Salary) from Worker where Salary not in (Select max(Salary) from Worker);\"))"
      ]
    },
    {
      "cell_type": "code",
      "execution_count": 12,
      "metadata": {
        "id": "zhXh5g-jsKnl"
      },
      "outputs": [],
      "source": [
        "gpt.add_example(Example(\"Display the highest salary from the Worker table.\", \n",
        "                        \"Select max(Salary) from Worker;\"))"
      ]
    },
    {
      "cell_type": "code",
      "execution_count": 13,
      "metadata": {
        "id": "wWjmZe-Ntexm"
      },
      "outputs": [],
      "source": [
        "gpt.add_example(Example(\"Fetch the count of employees working in the department Admin.\", \n",
        "                        \"SELECT COUNT(*) FROM worker WHERE DEPARTMENT = 'Admin';\"))"
      ]
    },
    {
      "cell_type": "code",
      "execution_count": 14,
      "metadata": {
        "id": "Q9xuF--Kt_xh"
      },
      "outputs": [],
      "source": [
        "gpt.add_example(Example(\"Get all details of the Workers whose SALARY lies between 100000 and 500000.\", \n",
        "                        \"Select * from Worker where SALARY between 100000 and 500000;\"))"
      ]
    },
    {
      "cell_type": "code",
      "execution_count": 15,
      "metadata": {
        "id": "z5jRwDCcuauE"
      },
      "outputs": [],
      "source": [
        "gpt.add_example(Example(\"Get Salary details of the Workers\", \n",
        "                        \"Select Salary from Worker\"))"
      ]
    },
    {
      "cell_type": "markdown",
      "metadata": {
        "id": "3mI7FmwSu9AA"
      },
      "source": [
        "# Example 1"
      ]
    },
    {
      "cell_type": "code",
      "execution_count": 16,
      "metadata": {
        "id": "sWSmXABfrdTm"
      },
      "outputs": [],
      "source": [
        "prompt = \"Display the lowest salary from the Worker table.\""
      ]
    },
    {
      "cell_type": "code",
      "execution_count": 17,
      "metadata": {
        "id": "pVzvJtmRqTku"
      },
      "outputs": [],
      "source": [
        "output = gpt.submit_request(prompt)"
      ]
    },
    {
      "cell_type": "code",
      "execution_count": 18,
      "metadata": {
        "colab": {
          "base_uri": "https://localhost:8080/",
          "height": 35
        },
        "id": "niqyIPAyoLQb",
        "outputId": "853cd2a0-ec4e-4454-90b8-cb8be70b0d4f"
      },
      "outputs": [
        {
          "data": {
            "text/plain": [
              "'output: Select min(Salary) from Worker;\\n'"
            ]
          },
          "execution_count": 18,
          "metadata": {},
          "output_type": "execute_result"
        }
      ],
      "source": [
        "output.choices[0].text"
      ]
    },
    {
      "cell_type": "markdown",
      "metadata": {
        "id": "LA3DyhGJu_8o"
      },
      "source": [
        "# Example 2"
      ]
    },
    {
      "cell_type": "code",
      "execution_count": 19,
      "metadata": {
        "id": "_OdI6bFLtpel"
      },
      "outputs": [],
      "source": [
        "prompt = \"Tell me the count of employees working in the department HR.\""
      ]
    },
    {
      "cell_type": "code",
      "execution_count": 20,
      "metadata": {
        "id": "XnjQ0kfbtpkE"
      },
      "outputs": [],
      "source": [
        "output = gpt.submit_request(prompt)"
      ]
    },
    {
      "cell_type": "code",
      "execution_count": 21,
      "metadata": {
        "colab": {
          "base_uri": "https://localhost:8080/",
          "height": 35
        },
        "id": "Z9Yo-bZotph4",
        "outputId": "0e1572e6-bceb-42c8-d67f-4f29a156745c"
      },
      "outputs": [
        {
          "data": {
            "text/plain": [
              "\"output: SELECT COUNT(*) FROM Worker WHERE DEPARTMENT = 'HR';\\n\""
            ]
          },
          "execution_count": 21,
          "metadata": {},
          "output_type": "execute_result"
        }
      ],
      "source": [
        "output.choices[0].text"
      ]
    },
    {
      "cell_type": "markdown",
      "metadata": {
        "id": "dnB7TCA_vCkF"
      },
      "source": [
        "# Example 3"
      ]
    },
    {
      "cell_type": "code",
      "execution_count": 22,
      "metadata": {
        "id": "GkaHZLIzt3pQ"
      },
      "outputs": [],
      "source": [
        "prompt = \"Get salary details of the Workers whose AGE lies between 25 and 35\""
      ]
    },
    {
      "cell_type": "code",
      "execution_count": 23,
      "metadata": {
        "colab": {
          "base_uri": "https://localhost:8080/",
          "height": 51
        },
        "id": "G6GmvbukmLCK",
        "outputId": "21c8f471-b272-47ed-dd18-36c94fbf6936"
      },
      "outputs": [
        {
          "name": "stdout",
          "output_type": "stream",
          "text": [
            "output: Select * from Worker where AGE between 25 and 35;\n",
            "\n"
          ]
        }
      ],
      "source": [
        "print(gpt.get_top_reply(prompt))"
      ]
    }
  ],
  "metadata": {
    "colab": {
      "name": "GPT-3-Demo.ipynb",
      "provenance": []
    },
    "kernelspec": {
      "display_name": "Python 3.10.7 64-bit",
      "language": "python",
      "name": "python3"
    },
    "language_info": {
      "codemirror_mode": {
        "name": "ipython",
        "version": 3
      },
      "file_extension": ".py",
      "mimetype": "text/x-python",
      "name": "python",
      "nbconvert_exporter": "python",
      "pygments_lexer": "ipython3",
      "version": "3.10.7"
    },
    "vscode": {
      "interpreter": {
        "hash": "c1f682f24181e02bec5294285fb1c175cb07785bd2390f987c80770a76d37385"
      }
    }
  },
  "nbformat": 4,
  "nbformat_minor": 0
}
